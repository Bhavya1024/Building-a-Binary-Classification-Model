{
 "cells": [
  {
   "cell_type": "code",
   "execution_count": 13,
   "id": "287dcdae-528f-4d15-82bd-fd29098ded53",
   "metadata": {},
   "outputs": [
    {
     "name": "stdout",
     "output_type": "stream",
     "text": [
      "Number of lines with different values: 557\n"
     ]
    }
   ],
   "source": [
    "import numpy as np\n",
    "\n",
    "# Load data from text files and compare them\n",
    "def compare_sequences(features_file, labels_file):\n",
    "    # Load features and labels\n",
    "    X = np.loadtxt(features_file, dtype=int)\n",
    "    y = np.loadtxt(labels_file, dtype=int)\n",
    "    \n",
    "    # Check if the lengths of the two arrays are equal\n",
    "    if len(X) != len(y):\n",
    "        raise ValueError(\"The number of lines in both files must be equal.\")\n",
    "    \n",
    "    # Count the number of lines where the values are different\n",
    "    differences = np.sum(X != y)\n",
    "    \n",
    "    return differences\n",
    "\n",
    "# Main function\n",
    "def main(features_file, labels_file):\n",
    "    differences = compare_sequences(features_file, labels_file)\n",
    "    print(f\"Number of lines with different values: {differences}\")\n",
    "\n",
    "# Example usage\n",
    "if __name__ == \"__main__\":\n",
    "    features_file = 'pred_textseq.txt'  # Path to the file containing the features\n",
    "    labels_file = 'pred_combined.txt'        # Path to the file containing the labels\n",
    "    main(features_file, labels_file)\n"
   ]
  },
  {
   "cell_type": "code",
   "execution_count": 15,
   "id": "e5d22c30-5ac6-4f22-92ad-8ff93f77cb85",
   "metadata": {},
   "outputs": [
    {
     "name": "stdout",
     "output_type": "stream",
     "text": [
      "Differences between pred_emoticon.txt vs pred_deepfeat.txt: 840\n",
      "Differences between pred_emoticon.txt vs pred_textseq.txt: 107\n",
      "Differences between pred_emoticon.txt vs pred_combined.txt: 528\n",
      "Differences between pred_deepfeat.txt vs pred_textseq.txt: 867\n",
      "Differences between pred_deepfeat.txt vs pred_combined.txt: 380\n",
      "Differences between pred_textseq.txt vs pred_combined.txt: 557\n"
     ]
    }
   ],
   "source": [
    "def count_differences(file1, file2):\n",
    "    \"\"\"Count the number of differing lines between two files.\"\"\"\n",
    "    with open(file1, 'r') as f1, open(file2, 'r') as f2:\n",
    "        lines1 = f1.readlines()\n",
    "        lines2 = f2.readlines()\n",
    "    \n",
    "    # Normalize lengths by padding the shorter file with empty strings\n",
    "    max_length = max(len(lines1), len(lines2))\n",
    "    lines1 += [''] * (max_length - len(lines1))\n",
    "    lines2 += [''] * (max_length - len(lines2))\n",
    "\n",
    "    differences = sum(1 for l1, l2 in zip(lines1, lines2) if l1.strip() != l2.strip())\n",
    "    return differences\n",
    "\n",
    "def compare_files(file_names):\n",
    "    \"\"\"Compare all files with each other.\"\"\"\n",
    "    results = {}\n",
    "    \n",
    "    for i in range(len(file_names)):\n",
    "        for j in range(i + 1, len(file_names)):\n",
    "            file1 = file_names[i]\n",
    "            file2 = file_names[j]\n",
    "            diff_count = count_differences(file1, file2)\n",
    "            results[f\"{file1} vs {file2}\"] = diff_count\n",
    "    \n",
    "    return results\n",
    "\n",
    "# List of your four specific files\n",
    "file_names = ['pred_emoticon.txt', 'pred_deepfeat.txt', 'pred_textseq.txt', 'pred_combined.txt']\n",
    "\n",
    "# Compare the files and print the results\n",
    "differences = compare_files(file_names)\n",
    "\n",
    "for comparison, count in differences.items():\n",
    "    print(f\"Differences between {comparison}: {count}\")\n"
   ]
  },
  {
   "cell_type": "code",
   "execution_count": null,
   "id": "f3dd2be0-470a-41e8-9608-c570a37e50b4",
   "metadata": {},
   "outputs": [],
   "source": []
  }
 ],
 "metadata": {
  "kernelspec": {
   "display_name": "Python 3 (ipykernel)",
   "language": "python",
   "name": "python3"
  },
  "language_info": {
   "codemirror_mode": {
    "name": "ipython",
    "version": 3
   },
   "file_extension": ".py",
   "mimetype": "text/x-python",
   "name": "python",
   "nbconvert_exporter": "python",
   "pygments_lexer": "ipython3",
   "version": "3.12.4"
  }
 },
 "nbformat": 4,
 "nbformat_minor": 5
}
